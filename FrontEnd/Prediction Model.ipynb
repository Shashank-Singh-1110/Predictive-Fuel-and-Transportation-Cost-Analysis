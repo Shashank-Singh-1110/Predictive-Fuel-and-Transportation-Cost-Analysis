{
 "cells": [
  {
   "cell_type": "code",
   "execution_count": 1,
   "id": "4bdb8dd4",
   "metadata": {},
   "outputs": [
    {
     "name": "stderr",
     "output_type": "stream",
     "text": [
      "/Users/shashanksingh/opt/anaconda3/lib/python3.9/site-packages/pandas/core/computation/expressions.py:21: UserWarning: Pandas requires version '2.8.4' or newer of 'numexpr' (version '2.8.1' currently installed).\n",
      "  from pandas.core.computation.check import NUMEXPR_INSTALLED\n",
      "/Users/shashanksingh/opt/anaconda3/lib/python3.9/site-packages/pandas/core/arrays/masked.py:61: UserWarning: Pandas requires version '1.3.6' or newer of 'bottleneck' (version '1.3.4' currently installed).\n",
      "  from pandas.core import (\n"
     ]
    }
   ],
   "source": [
    "import pandas as pd\n",
    "import joblib\n",
    "import requests\n",
    "import warnings\n",
    "from datetime import datetime\n",
    "warnings.filterwarnings('ignore', category=UserWarning)"
   ]
  },
  {
   "cell_type": "code",
   "execution_count": 2,
   "id": "a8030f30",
   "metadata": {},
   "outputs": [
    {
     "data": {
      "text/html": [
       "<div>\n",
       "<style scoped>\n",
       "    .dataframe tbody tr th:only-of-type {\n",
       "        vertical-align: middle;\n",
       "    }\n",
       "\n",
       "    .dataframe tbody tr th {\n",
       "        vertical-align: top;\n",
       "    }\n",
       "\n",
       "    .dataframe thead th {\n",
       "        text-align: right;\n",
       "    }\n",
       "</style>\n",
       "<table border=\"1\" class=\"dataframe\">\n",
       "  <thead>\n",
       "    <tr style=\"text-align: right;\">\n",
       "      <th></th>\n",
       "      <th>Date</th>\n",
       "      <th>City</th>\n",
       "      <th>Petrol_Price</th>\n",
       "      <th>Diesel_Price</th>\n",
       "    </tr>\n",
       "  </thead>\n",
       "  <tbody>\n",
       "    <tr>\n",
       "      <th>0</th>\n",
       "      <td>2025-10-22</td>\n",
       "      <td>Chennai</td>\n",
       "      <td>100.80</td>\n",
       "      <td>92.39</td>\n",
       "    </tr>\n",
       "    <tr>\n",
       "      <th>1</th>\n",
       "      <td>2025-10-22</td>\n",
       "      <td>Delhi</td>\n",
       "      <td>94.77</td>\n",
       "      <td>87.67</td>\n",
       "    </tr>\n",
       "    <tr>\n",
       "      <th>2</th>\n",
       "      <td>2025-10-22</td>\n",
       "      <td>Kolkata</td>\n",
       "      <td>105.41</td>\n",
       "      <td>92.02</td>\n",
       "    </tr>\n",
       "    <tr>\n",
       "      <th>3</th>\n",
       "      <td>2025-10-22</td>\n",
       "      <td>Mumbai</td>\n",
       "      <td>103.50</td>\n",
       "      <td>90.03</td>\n",
       "    </tr>\n",
       "    <tr>\n",
       "      <th>4</th>\n",
       "      <td>2025-10-21</td>\n",
       "      <td>Chennai</td>\n",
       "      <td>100.80</td>\n",
       "      <td>92.39</td>\n",
       "    </tr>\n",
       "  </tbody>\n",
       "</table>\n",
       "</div>"
      ],
      "text/plain": [
       "         Date     City  Petrol_Price  Diesel_Price\n",
       "0  2025-10-22  Chennai        100.80         92.39\n",
       "1  2025-10-22    Delhi         94.77         87.67\n",
       "2  2025-10-22  Kolkata        105.41         92.02\n",
       "3  2025-10-22   Mumbai        103.50         90.03\n",
       "4  2025-10-21  Chennai        100.80         92.39"
      ]
     },
     "execution_count": 2,
     "metadata": {},
     "output_type": "execute_result"
    }
   ],
   "source": [
    "fuel_df = pd.read_csv('fuel_prices.csv')\n",
    "fuel_df.head()"
   ]
  },
  {
   "cell_type": "code",
   "execution_count": 3,
   "id": "8ae2513e",
   "metadata": {},
   "outputs": [],
   "source": [
    "def get_fuel_price(fuel_df, city, date):\n",
    "    try:\n",
    "        user_date = pd.to_datetime(date)\n",
    "        local_fuel_df = fuel_df.copy()\n",
    "        local_fuel_df['Date'] = pd.to_datetime(local_fuel_df['Date'])\n",
    "        city_data = local_fuel_df[local_fuel_df['City'] == city].sort_values(by='Date')\n",
    "        \n",
    "        if city_data.empty:\n",
    "            print(f\"Warning: No fuel price data found for city: {city}.\")\n",
    "            return None, None, None\n",
    "        exact_match = city_data[city_data['Date'] == user_date]\n",
    "        \n",
    "        if not exact_match.empty:\n",
    "            row = exact_match.iloc[0]\n",
    "            print(f\"Fuel Price: Found exact match for {date}.\")\n",
    "            return row['Petrol_Price'], row['Diesel_Price'], row['Date']\n",
    "        else:\n",
    "            fallback_data = city_data[city_data['Date'] <= user_date]\n",
    "            \n",
    "            if not fallback_data.empty:\n",
    "                row = fallback_data.iloc[-1]\n",
    "                print(f\"Fuel Price: No exact match for {date}. Using most recent data from {row['Date'].strftime('%Y-%m-%d')}.\")\n",
    "                return row['Petrol_Price'], row['Diesel_Price'], row['Date']\n",
    "            else:\n",
    "                row = city_data.iloc[0]\n",
    "                print(f\"Fuel Price: Date {date} is older than our data. Using oldest data from {row['Date'].strftime('%Y-%m-%d')}.\")\n",
    "                return row['Petrol_Price'], row['Diesel_Price'], row['Date']\n",
    "\n",
    "    except Exception as e:\n",
    "        print(f\"Error in get_fuel_prices: {e}\")\n",
    "        return None, None, None"
   ]
  },
  {
   "cell_type": "code",
   "execution_count": 4,
   "id": "d64ad5a8",
   "metadata": {},
   "outputs": [],
   "source": [
    "CITY_COORDS = {\n",
    "    'Delhi': {'lat': 28.61, 'lon': 77.21},\n",
    "    'Mumbai': {'lat': 19.08, 'lon': 72.88},\n",
    "    'Chennai': {'lat': 13.08, 'lon': 80.27},\n",
    "    'Kolkata': {'lat': 22.57, 'lon': 88.36}\n",
    "}"
   ]
  },
  {
   "cell_type": "code",
   "execution_count": 5,
   "id": "dd7889bc",
   "metadata": {},
   "outputs": [],
   "source": [
    "def get_weather_forecast(city, date):\n",
    "    \"\"\"\n",
    "    Gets the forecasted weather for a specific date from Open-Meteo.\n",
    "    \"\"\"\n",
    "    if city not in CITY_COORDS:\n",
    "        print(f\"Warning: No coordinates for city: {city}.\")\n",
    "        return None, None\n",
    "        \n",
    "    coords = CITY_COORDS[city]\n",
    "    api_url = \"https://api.open-meteo.com/v1/forecast\"\n",
    "    params = {\n",
    "        'latitude': coords['lat'],\n",
    "        'longitude': coords['lon'],\n",
    "        'daily': 'temperature_2m_mean,precipitation_sum',\n",
    "        'start_date': date,\n",
    "        'end_date': date,\n",
    "        'timezone': 'auto'\n",
    "    }\n",
    "    \n",
    "    try:\n",
    "        response = requests.get(api_url, params=params)\n",
    "        response.raise_for_status()\n",
    "        results = response.json()\n",
    "        \n",
    "        temp = results['daily']['temperature_2m_mean'][0]\n",
    "        precip = results['daily']['precipitation_sum'][0]\n",
    "        print(f\"Weather: Successfully fetched forecast for {date}.\")\n",
    "        return temp, precip\n",
    "    except Exception as e:\n",
    "        print(f\"Warning: Could not fetch weather. {e}\")\n",
    "        return None, None"
   ]
  },
  {
   "cell_type": "code",
   "execution_count": 6,
   "id": "d1859b53",
   "metadata": {},
   "outputs": [],
   "source": [
    "user_date = '2025-10-22'\n",
    "user_city = 'Mumbai'\n",
    "user_vehicle = 'Truck'\n",
    "user_route = 'Route_A'\n",
    "user_distance = 50\n",
    "user_load = 5000\n",
    "\n",
    "budget_threshold = 5000"
   ]
  },
  {
   "cell_type": "code",
   "execution_count": 7,
   "id": "7c3de2ae",
   "metadata": {},
   "outputs": [],
   "source": [
    "model_cost = joblib.load(\"Regression_model.pkl\")\n",
    "model_risk = joblib.load(\"Classification-Model.pkl\")\n",
    "final_df = pd.read_csv('final_dataset.csv')"
   ]
  },
  {
   "cell_type": "code",
   "execution_count": 8,
   "id": "f7643d6e",
   "metadata": {},
   "outputs": [
    {
     "name": "stdout",
     "output_type": "stream",
     "text": [
      "Fuel Price: Found exact match for 2025-10-22.\n",
      "Weather: Successfully fetched forecast for 2025-10-22.\n"
     ]
    }
   ],
   "source": [
    "petrol_price, diesel_price, fuel_date_used = get_fuel_price(fuel_df, user_city, user_date)\n",
    "temp, precip = get_weather_forecast(user_city, user_date)\n",
    "if petrol_price is None or temp is None:\n",
    "    print(\"Error: Could not fetch required data. Aborting prediction.\")\n",
    "    exit()"
   ]
  },
  {
   "cell_type": "code",
   "execution_count": 9,
   "id": "8644bf20",
   "metadata": {},
   "outputs": [],
   "source": [
    "fuel_type = 'Diesel' if user_vehicle in ['Truck', 'Van'] else 'Petrol'\n",
    "new_trip_data = {\n",
    "    'City': user_city,\n",
    "    'Vehicle_Type': user_vehicle,\n",
    "    'Fuel_Type': fuel_type,\n",
    "    'Route': user_route,\n",
    "    'Distance_km': user_distance,\n",
    "    'Load_Weight_kg': user_load,\n",
    "    'Petrol_Price': petrol_price,\n",
    "    'Diesel_Price': diesel_price,\n",
    "    'Temp_Mean_C': temp,\n",
    "    'Precipitation_mm': precip\n",
    "}"
   ]
  },
  {
   "cell_type": "code",
   "execution_count": 10,
   "id": "10caff8b",
   "metadata": {},
   "outputs": [
    {
     "name": "stdout",
     "output_type": "stream",
     "text": [
      "                        0\n",
      "City               Mumbai\n",
      "Vehicle_Type        Truck\n",
      "Fuel_Type          Diesel\n",
      "Route             Route_A\n",
      "Distance_km            50\n",
      "Load_Weight_kg       5000\n",
      "Petrol_Price        103.5\n",
      "Diesel_Price        90.03\n",
      "Temp_Mean_C          28.9\n",
      "Precipitation_mm      0.0\n"
     ]
    }
   ],
   "source": [
    "columns = [\n",
    "    'City', 'Vehicle_Type', 'Fuel_Type', 'Route', 'Distance_km', \n",
    "    'Load_Weight_kg', 'Petrol_Price', 'Diesel_Price', 'Temp_Mean_C', \n",
    "    'Precipitation_mm'\n",
    "]\n",
    "new_trip_df = pd.DataFrame([new_trip_data], columns=columns)\n",
    "print(new_trip_df.T)"
   ]
  },
  {
   "cell_type": "code",
   "execution_count": 11,
   "id": "6dae7d87",
   "metadata": {},
   "outputs": [],
   "source": [
    "predicted_cost = model_cost.predict(new_trip_df)[0]\n",
    "prediction_risk = model_risk.predict(new_trip_df)[0]\n",
    "probabilities_risk = model_risk.predict_proba(new_trip_df)[0]\n",
    "prob_over_budget = probabilities_risk[1]"
   ]
  },
  {
   "cell_type": "code",
   "execution_count": 12,
   "id": "d017b737",
   "metadata": {},
   "outputs": [
    {
     "name": "stdout",
     "output_type": "stream",
     "text": [
      "\n",
      "--- 📊 PREDICTION REPORT ---\n",
      "==========================================\n",
      "  Model 1 (Cost Prediction):\n",
      "  Predicted Trip Cost:   ₹1022.08\n",
      "------------------------------------------\n",
      "  Model 2 (Risk Analysis):\n",
      "  Budget Threshold:      ₹5000\n",
      "  Probability Over Budget: 37.0%\n",
      "  Final Decision:        APPROVED: LIKELY UNDER BUDGET\n",
      "==========================================\n"
     ]
    }
   ],
   "source": [
    "print(\"\\n--- 📊 PREDICTION REPORT ---\")\n",
    "print(\"==========================================\")\n",
    "print(f\"  Model 1 (Cost Prediction):\")\n",
    "print(f\"  Predicted Trip Cost:   ₹{predicted_cost:.2f}\")\n",
    "print(\"------------------------------------------\")\n",
    "print(f\"  Model 2 (Risk Analysis):\")\n",
    "print(f\"  Budget Threshold:      ₹{budget_threshold}\")\n",
    "print(f\"  Probability Over Budget: {prob_over_budget * 100:.1f}%\")\n",
    "print(f\"  Final Decision:        {'FLAGGED: LIKELY OVER BUDGET' if prediction_risk == 1 else 'APPROVED: LIKELY UNDER BUDGET'}\")\n",
    "print(\"==========================================\")"
   ]
  },
  {
   "cell_type": "code",
   "execution_count": null,
   "id": "b2ca9b4d",
   "metadata": {},
   "outputs": [],
   "source": []
  }
 ],
 "metadata": {
  "kernelspec": {
   "display_name": "Python 3 (ipykernel)",
   "language": "python",
   "name": "python3"
  },
  "language_info": {
   "codemirror_mode": {
    "name": "ipython",
    "version": 3
   },
   "file_extension": ".py",
   "mimetype": "text/x-python",
   "name": "python",
   "nbconvert_exporter": "python",
   "pygments_lexer": "ipython3",
   "version": "3.9.12"
  }
 },
 "nbformat": 4,
 "nbformat_minor": 5
}
