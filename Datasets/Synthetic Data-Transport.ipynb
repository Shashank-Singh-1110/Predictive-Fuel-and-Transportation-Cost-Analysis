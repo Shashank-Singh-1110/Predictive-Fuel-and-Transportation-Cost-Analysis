{
 "cells": [
  {
   "cell_type": "code",
   "execution_count": 1,
   "id": "0b2ed488",
   "metadata": {
    "scrolled": false
   },
   "outputs": [
    {
     "name": "stderr",
     "output_type": "stream",
     "text": [
      "/Users/shashanksingh/opt/anaconda3/lib/python3.9/site-packages/pandas/core/computation/expressions.py:21: UserWarning: Pandas requires version '2.8.4' or newer of 'numexpr' (version '2.8.1' currently installed).\n",
      "  from pandas.core.computation.check import NUMEXPR_INSTALLED\n",
      "/Users/shashanksingh/opt/anaconda3/lib/python3.9/site-packages/pandas/core/arrays/masked.py:61: UserWarning: Pandas requires version '1.3.6' or newer of 'bottleneck' (version '1.3.4' currently installed).\n",
      "  from pandas.core import (\n"
     ]
    }
   ],
   "source": [
    "import pandas as pd\n",
    "import numpy as np\n",
    "import uuid "
   ]
  },
  {
   "cell_type": "markdown",
   "id": "3b32bb8b",
   "metadata": {},
   "source": [
    "!pip install --upgrade pandas numpy"
   ]
  },
  {
   "cell_type": "code",
   "execution_count": 2,
   "id": "f31b2370",
   "metadata": {},
   "outputs": [],
   "source": [
    "try:\n",
    "    fuel_df = pd.read_csv('fuel_prices.csv')\n",
    "    fuel_df['Date'] = pd.to_datetime(fuel_df['Date'])\n",
    "except FileNotFoundError:\n",
    "    print(\"Error: 'fuel_prices_historical_all_pages.csv' not found.\")\n",
    "    print(\"Please run the previous script first.\")\n",
    "    exit()"
   ]
  },
  {
   "cell_type": "code",
   "execution_count": 6,
   "id": "fb1929b4",
   "metadata": {},
   "outputs": [],
   "source": [
    "VEHICLE_SPECS = {\n",
    "    'Motorcycle': {'base_mileage_km_per_l': 45.0, 'fuel_type': 'Petrol'},\n",
    "    'Van': {'base_mileage_km_per_l': 12.0, 'fuel_type': 'Diesel'},\n",
    "    'Truck': {'base_mileage_km_per_l': 5.0, 'fuel_type': 'Diesel'}\n",
    "}\n",
    "\n",
    "ROUTES = ['Route_A', 'Route_B', 'Route_C']\n",
    "N_TRIPS_PER_DAY_CITY = 8"
   ]
  },
  {
   "cell_type": "code",
   "execution_count": 7,
   "id": "58f623c6",
   "metadata": {},
   "outputs": [
    {
     "name": "stdout",
     "output_type": "stream",
     "text": [
      "Starting simulation to generate synthetic transportation data...\n"
     ]
    }
   ],
   "source": [
    "all_trips = []\n",
    "for row in fuel_df.itertuples():\n",
    "    current_date = row.Date\n",
    "    current_city = row.City\n",
    "    petrol_price = row.Petrol_Price\n",
    "    diesel_price = row.Diesel_Price\n",
    "    \n",
    "    if pd.isna(petrol_price) or pd.isna(diesel_price):\n",
    "        continue\n",
    "        \n",
    "    for _ in range(N_TRIPS_PER_DAY_CITY):\n",
    "        vehicle_type = np.random.choice(['Motorcycle', 'Van', 'Truck'], p=[0.2, 0.5, 0.3])\n",
    "        specs = VEHICLE_SPECS[vehicle_type]\n",
    "        \n",
    "        fuel_type = specs['fuel_type']\n",
    "        price_per_liter = petrol_price if fuel_type == 'Petrol' else diesel_price\n",
    "        \n",
    "        distance_km = round(np.random.uniform(15.0, 250.0), 2)\n",
    "        load_weight_kg = 0\n",
    "        if vehicle_type == 'Van':\n",
    "            load_weight_kg = round(np.random.uniform(50.0, 800.0), 2)\n",
    "        elif vehicle_type == 'Truck':\n",
    "            load_weight_kg = round(np.random.uniform(1000.0, 15000.0), 2)\n",
    "        mileage_penalty = (load_weight_kg / 1000) * 0.1 \n",
    "        current_mileage = specs['base_mileage_km_per_l'] - mileage_penalty\n",
    "        \n",
    "        fuel_consumed_liters = distance_km / current_mileage\n",
    "        total_fuel_cost = round(fuel_consumed_liters * price_per_liter, 2)\n",
    "        \n",
    "        all_trips.append({\n",
    "            'Trip_ID': str(uuid.uuid4()),\n",
    "            'Date': current_date,\n",
    "            'City': current_city,\n",
    "            'Vehicle_Type': vehicle_type,\n",
    "            'Fuel_Type': fuel_type,\n",
    "            'Route': np.random.choice(ROUTES),\n",
    "            'Distance_km': distance_km,\n",
    "            'Load_Weight_kg': load_weight_kg,\n",
    "            'Total_Fuel_Cost': total_fuel_cost\n",
    "        })\n",
    "\n",
    "transport_df = pd.DataFrame(all_trips)"
   ]
  },
  {
   "cell_type": "code",
   "execution_count": 9,
   "id": "ff59832c",
   "metadata": {
    "scrolled": true
   },
   "outputs": [
    {
     "name": "stdout",
     "output_type": "stream",
     "text": [
      "\n",
      "DataFrame Info:\n",
      "<class 'pandas.core.frame.DataFrame'>\n",
      "RangeIndex: 96544 entries, 0 to 96543\n",
      "Data columns (total 9 columns):\n",
      " #   Column           Non-Null Count  Dtype         \n",
      "---  ------           --------------  -----         \n",
      " 0   Trip_ID          96544 non-null  object        \n",
      " 1   Date             96544 non-null  datetime64[ns]\n",
      " 2   City             96544 non-null  object        \n",
      " 3   Vehicle_Type     96544 non-null  object        \n",
      " 4   Fuel_Type        96544 non-null  object        \n",
      " 5   Route            96544 non-null  object        \n",
      " 6   Distance_km      96544 non-null  float64       \n",
      " 7   Load_Weight_kg   96544 non-null  float64       \n",
      " 8   Total_Fuel_Cost  96544 non-null  float64       \n",
      "dtypes: datetime64[ns](1), float64(3), object(5)\n",
      "memory usage: 6.6+ MB\n"
     ]
    },
    {
     "data": {
      "text/html": [
       "<div>\n",
       "<style scoped>\n",
       "    .dataframe tbody tr th:only-of-type {\n",
       "        vertical-align: middle;\n",
       "    }\n",
       "\n",
       "    .dataframe tbody tr th {\n",
       "        vertical-align: top;\n",
       "    }\n",
       "\n",
       "    .dataframe thead th {\n",
       "        text-align: right;\n",
       "    }\n",
       "</style>\n",
       "<table border=\"1\" class=\"dataframe\">\n",
       "  <thead>\n",
       "    <tr style=\"text-align: right;\">\n",
       "      <th></th>\n",
       "      <th>Trip_ID</th>\n",
       "      <th>Date</th>\n",
       "      <th>City</th>\n",
       "      <th>Vehicle_Type</th>\n",
       "      <th>Fuel_Type</th>\n",
       "      <th>Route</th>\n",
       "      <th>Distance_km</th>\n",
       "      <th>Load_Weight_kg</th>\n",
       "      <th>Total_Fuel_Cost</th>\n",
       "    </tr>\n",
       "  </thead>\n",
       "  <tbody>\n",
       "    <tr>\n",
       "      <th>0</th>\n",
       "      <td>2bef172c-7c6b-444c-b3b4-68bdc80c3c63</td>\n",
       "      <td>2025-10-22</td>\n",
       "      <td>Chennai</td>\n",
       "      <td>Van</td>\n",
       "      <td>Diesel</td>\n",
       "      <td>Route_A</td>\n",
       "      <td>81.28</td>\n",
       "      <td>280.41</td>\n",
       "      <td>627.25</td>\n",
       "    </tr>\n",
       "    <tr>\n",
       "      <th>1</th>\n",
       "      <td>d1582a29-ef94-4a79-b962-c7a4ee576c32</td>\n",
       "      <td>2025-10-22</td>\n",
       "      <td>Chennai</td>\n",
       "      <td>Van</td>\n",
       "      <td>Diesel</td>\n",
       "      <td>Route_B</td>\n",
       "      <td>201.81</td>\n",
       "      <td>701.00</td>\n",
       "      <td>1562.90</td>\n",
       "    </tr>\n",
       "    <tr>\n",
       "      <th>2</th>\n",
       "      <td>abf1e55a-3b87-4453-8f0d-7eb4099001a7</td>\n",
       "      <td>2025-10-22</td>\n",
       "      <td>Chennai</td>\n",
       "      <td>Truck</td>\n",
       "      <td>Diesel</td>\n",
       "      <td>Route_C</td>\n",
       "      <td>121.27</td>\n",
       "      <td>9865.66</td>\n",
       "      <td>2791.66</td>\n",
       "    </tr>\n",
       "    <tr>\n",
       "      <th>3</th>\n",
       "      <td>af73d7de-7d19-46ef-81e4-d7424095606c</td>\n",
       "      <td>2025-10-22</td>\n",
       "      <td>Chennai</td>\n",
       "      <td>Truck</td>\n",
       "      <td>Diesel</td>\n",
       "      <td>Route_A</td>\n",
       "      <td>198.82</td>\n",
       "      <td>10997.99</td>\n",
       "      <td>4709.75</td>\n",
       "    </tr>\n",
       "    <tr>\n",
       "      <th>4</th>\n",
       "      <td>b910776e-2453-442a-90f7-967e48a5b4eb</td>\n",
       "      <td>2025-10-22</td>\n",
       "      <td>Chennai</td>\n",
       "      <td>Van</td>\n",
       "      <td>Diesel</td>\n",
       "      <td>Route_A</td>\n",
       "      <td>123.73</td>\n",
       "      <td>222.62</td>\n",
       "      <td>954.39</td>\n",
       "    </tr>\n",
       "  </tbody>\n",
       "</table>\n",
       "</div>"
      ],
      "text/plain": [
       "                                Trip_ID       Date     City Vehicle_Type  \\\n",
       "0  2bef172c-7c6b-444c-b3b4-68bdc80c3c63 2025-10-22  Chennai          Van   \n",
       "1  d1582a29-ef94-4a79-b962-c7a4ee576c32 2025-10-22  Chennai          Van   \n",
       "2  abf1e55a-3b87-4453-8f0d-7eb4099001a7 2025-10-22  Chennai        Truck   \n",
       "3  af73d7de-7d19-46ef-81e4-d7424095606c 2025-10-22  Chennai        Truck   \n",
       "4  b910776e-2453-442a-90f7-967e48a5b4eb 2025-10-22  Chennai          Van   \n",
       "\n",
       "  Fuel_Type    Route  Distance_km  Load_Weight_kg  Total_Fuel_Cost  \n",
       "0    Diesel  Route_A        81.28          280.41           627.25  \n",
       "1    Diesel  Route_B       201.81          701.00          1562.90  \n",
       "2    Diesel  Route_C       121.27         9865.66          2791.66  \n",
       "3    Diesel  Route_A       198.82        10997.99          4709.75  \n",
       "4    Diesel  Route_A       123.73          222.62           954.39  "
      ]
     },
     "execution_count": 9,
     "metadata": {},
     "output_type": "execute_result"
    }
   ],
   "source": [
    "print(\"\\nDataFrame Info:\")\n",
    "transport_df.info()\n",
    "transport_df.head()"
   ]
  },
  {
   "cell_type": "code",
   "execution_count": 10,
   "id": "24320e32",
   "metadata": {},
   "outputs": [],
   "source": [
    "transport_df.to_csv(\"Transport Data.csv\", index = False)"
   ]
  }
 ],
 "metadata": {
  "kernelspec": {
   "display_name": "Python 3 (ipykernel)",
   "language": "python",
   "name": "python3"
  },
  "language_info": {
   "codemirror_mode": {
    "name": "ipython",
    "version": 3
   },
   "file_extension": ".py",
   "mimetype": "text/x-python",
   "name": "python",
   "nbconvert_exporter": "python",
   "pygments_lexer": "ipython3",
   "version": "3.9.12"
  }
 },
 "nbformat": 4,
 "nbformat_minor": 5
}
