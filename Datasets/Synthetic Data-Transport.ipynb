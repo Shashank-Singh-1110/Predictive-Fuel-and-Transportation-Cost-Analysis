{
 "cells": [
  {
   "cell_type": "code",
   "execution_count": 1,
   "id": "bfaeaf89",
   "metadata": {
    "scrolled": false
   },
   "outputs": [
    {
     "name": "stderr",
     "output_type": "stream",
     "text": [
      "/Users/shashanksingh/opt/anaconda3/lib/python3.9/site-packages/pandas/core/computation/expressions.py:21: UserWarning: Pandas requires version '2.8.4' or newer of 'numexpr' (version '2.8.1' currently installed).\n",
      "  from pandas.core.computation.check import NUMEXPR_INSTALLED\n",
      "/Users/shashanksingh/opt/anaconda3/lib/python3.9/site-packages/pandas/core/arrays/masked.py:61: UserWarning: Pandas requires version '1.3.6' or newer of 'bottleneck' (version '1.3.4' currently installed).\n",
      "  from pandas.core import (\n"
     ]
    }
   ],
   "source": [
    "import pandas as pd\n",
    "import numpy as np\n",
    "import uuid "
   ]
  },
  {
   "cell_type": "markdown",
   "id": "577288f4",
   "metadata": {},
   "source": [
    "!pip install --upgrade pandas numpy"
   ]
  },
  {
   "cell_type": "code",
   "execution_count": 2,
   "id": "a5917734",
   "metadata": {},
   "outputs": [],
   "source": [
    "try:\n",
    "    fuel_df = pd.read_csv('fuel_prices.csv')\n",
    "    fuel_df['Date'] = pd.to_datetime(fuel_df['Date'])\n",
    "except FileNotFoundError:\n",
    "    print(\"Error: 'fuel_prices_historical_all_pages.csv' not found.\")\n",
    "    print(\"Please run the previous script first.\")\n",
    "    exit()"
   ]
  },
  {
   "cell_type": "code",
   "execution_count": 3,
   "id": "95d254ee",
   "metadata": {},
   "outputs": [],
   "source": [
    "VEHICLE_SPECS = {\n",
    "    'Motorcycle': {'base_mileage_km_per_l': 45.0, 'fuel_type': 'Petrol'},\n",
    "    'Van': {'base_mileage_km_per_l': 12.0, 'fuel_type': 'Diesel'},\n",
    "    'Truck': {'base_mileage_km_per_l': 5.0, 'fuel_type': 'Diesel'}\n",
    "}\n",
    "\n",
    "ROUTES = ['Route_A', 'Route_B', 'Route_C']\n",
    "N_TRIPS_PER_DAY_CITY = 8"
   ]
  },
  {
   "cell_type": "code",
   "execution_count": 4,
   "id": "2936ad29",
   "metadata": {},
   "outputs": [],
   "source": [
    "all_trips = []\n",
    "for row in fuel_df.itertuples():\n",
    "    current_date = row.Date\n",
    "    current_city = row.City\n",
    "    petrol_price = row.Petrol_Price\n",
    "    diesel_price = row.Diesel_Price\n",
    "    \n",
    "    if pd.isna(petrol_price) or pd.isna(diesel_price):\n",
    "        continue\n",
    "        \n",
    "    for _ in range(N_TRIPS_PER_DAY_CITY):\n",
    "        vehicle_type = np.random.choice(['Motorcycle', 'Van', 'Truck'], p=[0.2, 0.5, 0.3])\n",
    "        specs = VEHICLE_SPECS[vehicle_type]\n",
    "        \n",
    "        fuel_type = specs['fuel_type']\n",
    "        price_per_liter = petrol_price if fuel_type == 'Petrol' else diesel_price\n",
    "        \n",
    "        distance_km = round(np.random.uniform(15,3000.0), 2)\n",
    "        load_weight_kg = 0\n",
    "        if vehicle_type == 'Van':\n",
    "            load_weight_kg = round(np.random.uniform(50.0, 800.00), 2)\n",
    "        elif vehicle_type == 'Truck':\n",
    "            load_weight_kg = round(np.random.uniform(1000.0, 15000.0), 2)\n",
    "        mileage_penalty = (load_weight_kg / 1000) * 0.1 \n",
    "        current_mileage = specs['base_mileage_km_per_l'] - mileage_penalty\n",
    "        \n",
    "        fuel_consumed_liters = distance_km / current_mileage\n",
    "        total_fuel_cost = round(fuel_consumed_liters * price_per_liter, 2)\n",
    "        \n",
    "        all_trips.append({\n",
    "            'Trip_ID': str(uuid.uuid4()),\n",
    "            'Date': current_date,\n",
    "            'City': current_city,\n",
    "            'Vehicle_Type': vehicle_type,\n",
    "            'Fuel_Type': fuel_type,\n",
    "            'Route': np.random.choice(ROUTES),\n",
    "            'Distance_km': distance_km,\n",
    "            'Load_Weight_kg': load_weight_kg,\n",
    "            'Total_Fuel_Cost': total_fuel_cost\n",
    "        })\n",
    "\n",
    "transport_df = pd.DataFrame(all_trips)"
   ]
  },
  {
   "cell_type": "code",
   "execution_count": 5,
   "id": "8824bd54",
   "metadata": {
    "scrolled": true
   },
   "outputs": [
    {
     "name": "stdout",
     "output_type": "stream",
     "text": [
      "\n",
      "DataFrame Info:\n",
      "<class 'pandas.core.frame.DataFrame'>\n",
      "RangeIndex: 96544 entries, 0 to 96543\n",
      "Data columns (total 9 columns):\n",
      " #   Column           Non-Null Count  Dtype         \n",
      "---  ------           --------------  -----         \n",
      " 0   Trip_ID          96544 non-null  object        \n",
      " 1   Date             96544 non-null  datetime64[ns]\n",
      " 2   City             96544 non-null  object        \n",
      " 3   Vehicle_Type     96544 non-null  object        \n",
      " 4   Fuel_Type        96544 non-null  object        \n",
      " 5   Route            96544 non-null  object        \n",
      " 6   Distance_km      96544 non-null  float64       \n",
      " 7   Load_Weight_kg   96544 non-null  float64       \n",
      " 8   Total_Fuel_Cost  96544 non-null  float64       \n",
      "dtypes: datetime64[ns](1), float64(3), object(5)\n",
      "memory usage: 6.6+ MB\n"
     ]
    },
    {
     "data": {
      "text/html": [
       "<div>\n",
       "<style scoped>\n",
       "    .dataframe tbody tr th:only-of-type {\n",
       "        vertical-align: middle;\n",
       "    }\n",
       "\n",
       "    .dataframe tbody tr th {\n",
       "        vertical-align: top;\n",
       "    }\n",
       "\n",
       "    .dataframe thead th {\n",
       "        text-align: right;\n",
       "    }\n",
       "</style>\n",
       "<table border=\"1\" class=\"dataframe\">\n",
       "  <thead>\n",
       "    <tr style=\"text-align: right;\">\n",
       "      <th></th>\n",
       "      <th>Trip_ID</th>\n",
       "      <th>Date</th>\n",
       "      <th>City</th>\n",
       "      <th>Vehicle_Type</th>\n",
       "      <th>Fuel_Type</th>\n",
       "      <th>Route</th>\n",
       "      <th>Distance_km</th>\n",
       "      <th>Load_Weight_kg</th>\n",
       "      <th>Total_Fuel_Cost</th>\n",
       "    </tr>\n",
       "  </thead>\n",
       "  <tbody>\n",
       "    <tr>\n",
       "      <th>0</th>\n",
       "      <td>c764d41f-9521-4bfc-8c07-2c5fffc8e21b</td>\n",
       "      <td>2025-10-22</td>\n",
       "      <td>Chennai</td>\n",
       "      <td>Truck</td>\n",
       "      <td>Diesel</td>\n",
       "      <td>Route_C</td>\n",
       "      <td>2532.43</td>\n",
       "      <td>14274.99</td>\n",
       "      <td>65492.27</td>\n",
       "    </tr>\n",
       "    <tr>\n",
       "      <th>1</th>\n",
       "      <td>dc63e782-8978-4c93-8986-7dd5a9a6a5ec</td>\n",
       "      <td>2025-10-22</td>\n",
       "      <td>Chennai</td>\n",
       "      <td>Truck</td>\n",
       "      <td>Diesel</td>\n",
       "      <td>Route_B</td>\n",
       "      <td>2795.18</td>\n",
       "      <td>7538.01</td>\n",
       "      <td>60818.32</td>\n",
       "    </tr>\n",
       "    <tr>\n",
       "      <th>2</th>\n",
       "      <td>02533cdd-17ac-40b7-9b0c-f618ecc4c086</td>\n",
       "      <td>2025-10-22</td>\n",
       "      <td>Chennai</td>\n",
       "      <td>Truck</td>\n",
       "      <td>Diesel</td>\n",
       "      <td>Route_B</td>\n",
       "      <td>2934.21</td>\n",
       "      <td>12934.98</td>\n",
       "      <td>73139.49</td>\n",
       "    </tr>\n",
       "    <tr>\n",
       "      <th>3</th>\n",
       "      <td>18bcafd1-56b3-4c1a-9503-6824ed12f37d</td>\n",
       "      <td>2025-10-22</td>\n",
       "      <td>Chennai</td>\n",
       "      <td>Motorcycle</td>\n",
       "      <td>Petrol</td>\n",
       "      <td>Route_C</td>\n",
       "      <td>1964.62</td>\n",
       "      <td>0.00</td>\n",
       "      <td>4400.75</td>\n",
       "    </tr>\n",
       "    <tr>\n",
       "      <th>4</th>\n",
       "      <td>b53d379b-9a1c-4aa7-9183-57c6e8c11bc6</td>\n",
       "      <td>2025-10-22</td>\n",
       "      <td>Chennai</td>\n",
       "      <td>Van</td>\n",
       "      <td>Diesel</td>\n",
       "      <td>Route_C</td>\n",
       "      <td>2739.38</td>\n",
       "      <td>706.93</td>\n",
       "      <td>21215.93</td>\n",
       "    </tr>\n",
       "  </tbody>\n",
       "</table>\n",
       "</div>"
      ],
      "text/plain": [
       "                                Trip_ID       Date     City Vehicle_Type  \\\n",
       "0  c764d41f-9521-4bfc-8c07-2c5fffc8e21b 2025-10-22  Chennai        Truck   \n",
       "1  dc63e782-8978-4c93-8986-7dd5a9a6a5ec 2025-10-22  Chennai        Truck   \n",
       "2  02533cdd-17ac-40b7-9b0c-f618ecc4c086 2025-10-22  Chennai        Truck   \n",
       "3  18bcafd1-56b3-4c1a-9503-6824ed12f37d 2025-10-22  Chennai   Motorcycle   \n",
       "4  b53d379b-9a1c-4aa7-9183-57c6e8c11bc6 2025-10-22  Chennai          Van   \n",
       "\n",
       "  Fuel_Type    Route  Distance_km  Load_Weight_kg  Total_Fuel_Cost  \n",
       "0    Diesel  Route_C      2532.43        14274.99         65492.27  \n",
       "1    Diesel  Route_B      2795.18         7538.01         60818.32  \n",
       "2    Diesel  Route_B      2934.21        12934.98         73139.49  \n",
       "3    Petrol  Route_C      1964.62            0.00          4400.75  \n",
       "4    Diesel  Route_C      2739.38          706.93         21215.93  "
      ]
     },
     "execution_count": 5,
     "metadata": {},
     "output_type": "execute_result"
    }
   ],
   "source": [
    "print(\"\\nDataFrame Info:\")\n",
    "transport_df.info()\n",
    "transport_df.head()"
   ]
  },
  {
   "cell_type": "code",
   "execution_count": 6,
   "id": "c9497bd3",
   "metadata": {},
   "outputs": [],
   "source": [
    "transport_df.to_csv(\"Transport Data.csv\", index = False)"
   ]
  }
 ],
 "metadata": {
  "kernelspec": {
   "display_name": "Python 3 (ipykernel)",
   "language": "python",
   "name": "python3"
  },
  "language_info": {
   "codemirror_mode": {
    "name": "ipython",
    "version": 3
   },
   "file_extension": ".py",
   "mimetype": "text/x-python",
   "name": "python",
   "nbconvert_exporter": "python",
   "pygments_lexer": "ipython3",
   "version": "3.9.12"
  }
 },
 "nbformat": 4,
 "nbformat_minor": 5
}
