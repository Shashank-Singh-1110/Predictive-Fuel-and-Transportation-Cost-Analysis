{
 "cells": [
  {
   "cell_type": "code",
   "execution_count": 1,
   "id": "afb75263",
   "metadata": {},
   "outputs": [
    {
     "name": "stderr",
     "output_type": "stream",
     "text": [
      "/Users/shashanksingh/opt/anaconda3/lib/python3.9/site-packages/pandas/core/computation/expressions.py:21: UserWarning: Pandas requires version '2.8.4' or newer of 'numexpr' (version '2.8.1' currently installed).\n",
      "  from pandas.core.computation.check import NUMEXPR_INSTALLED\n",
      "/Users/shashanksingh/opt/anaconda3/lib/python3.9/site-packages/pandas/core/arrays/masked.py:61: UserWarning: Pandas requires version '1.3.6' or newer of 'bottleneck' (version '1.3.4' currently installed).\n",
      "  from pandas.core import (\n"
     ]
    }
   ],
   "source": [
    "import pandas as pd\n",
    "import requests "
   ]
  },
  {
   "cell_type": "code",
   "execution_count": 3,
   "id": "777516ff",
   "metadata": {},
   "outputs": [
    {
     "name": "stdout",
     "output_type": "stream",
     "text": [
      "Date range found: 2017-06-16 to 2025-10-22\n"
     ]
    }
   ],
   "source": [
    "fuel_df = pd.read_csv('fuel_prices.csv')\n",
    "fuel_df['Date'] = pd.to_datetime(fuel_df['Date'])\n",
    "start_date = fuel_df['Date'].min().strftime('%Y-%m-%d')\n",
    "end_date = fuel_df['Date'].max().strftime('%Y-%m-%d')\n",
    "print(f\"Date range found: {start_date} to {end_date}\")"
   ]
  },
  {
   "cell_type": "code",
   "execution_count": 4,
   "id": "b0e8c0b4",
   "metadata": {},
   "outputs": [],
   "source": [
    "CITY_COORDS = {\n",
    "    'Delhi': {'lat': 28.61, 'lon': 77.21},\n",
    "    'Mumbai': {'lat': 19.08, 'lon': 72.88},\n",
    "    'Chennai': {'lat': 13.08, 'lon': 80.27},\n",
    "    'Kolkata': {'lat': 22.57, 'lon': 88.36}\n",
    "}"
   ]
  },
  {
   "cell_type": "code",
   "execution_count": 8,
   "id": "33a60c6b",
   "metadata": {},
   "outputs": [
    {
     "name": "stdout",
     "output_type": "stream",
     "text": [
      "API call successful. Processing data...\n"
     ]
    }
   ],
   "source": [
    "api_url = \"https://archive-api.open-meteo.com/v1/archive\"\n",
    "params = {\n",
    "    'latitude': [city['lat'] for city in CITY_COORDS.values()],\n",
    "    'longitude': [city['lon'] for city in CITY_COORDS.values()],\n",
    "    'start_date': start_date,\n",
    "    'end_date': end_date,\n",
    "    'daily': 'temperature_2m_mean,precipitation_sum',\n",
    "    'timezone': 'Asia/Kolkata' # Use local timezone\n",
    "}\n",
    "response = requests.get(api_url, params=params)\n",
    "\n",
    "if response.status_code != 200:\n",
    "    print(f\"Error: API request failed with status code {response.status_code}\")\n",
    "    print(response.json())\n",
    "    exit()\n",
    "\n",
    "results = response.json()\n",
    "print(\"API call successful. Processing data...\")\n",
    "\n",
    "all_weather_df = []\n",
    "for i, city_data in enumerate(results):\n",
    "    city_name = list(CITY_COORDS.keys())[i]\n",
    "    daily_data = city_data['daily']\n",
    "    df = pd.DataFrame(daily_data)\n",
    "    df['City'] = city_name\n",
    "    \n",
    "    all_weather_df.append(df)\n",
    "weather_df = pd.concat(all_weather_df, ignore_index=True)"
   ]
  },
  {
   "cell_type": "code",
   "execution_count": 10,
   "id": "eb4044ba",
   "metadata": {},
   "outputs": [],
   "source": [
    "weather_df.rename(columns={\n",
    "    'time': 'Date',\n",
    "    'temperature_2m_mean': 'Temp_Mean_C',\n",
    "    'precipitation_sum': 'Precipitation_mm'\n",
    "}, inplace=True)\n",
    "weather_df['Date'] = pd.to_datetime(weather_df['Date'])\n",
    "weather_df = weather_df[['Date', 'City', 'Temp_Mean_C', 'Precipitation_mm']]"
   ]
  },
  {
   "cell_type": "code",
   "execution_count": 11,
   "id": "5c93e960",
   "metadata": {},
   "outputs": [],
   "source": [
    "weather_df.to_csv(\"Weather Data.csv\", index=False)"
   ]
  },
  {
   "cell_type": "code",
   "execution_count": 12,
   "id": "70f6ba50",
   "metadata": {},
   "outputs": [
    {
     "data": {
      "text/html": [
       "<div>\n",
       "<style scoped>\n",
       "    .dataframe tbody tr th:only-of-type {\n",
       "        vertical-align: middle;\n",
       "    }\n",
       "\n",
       "    .dataframe tbody tr th {\n",
       "        vertical-align: top;\n",
       "    }\n",
       "\n",
       "    .dataframe thead th {\n",
       "        text-align: right;\n",
       "    }\n",
       "</style>\n",
       "<table border=\"1\" class=\"dataframe\">\n",
       "  <thead>\n",
       "    <tr style=\"text-align: right;\">\n",
       "      <th></th>\n",
       "      <th>Date</th>\n",
       "      <th>City</th>\n",
       "      <th>Temp_Mean_C</th>\n",
       "      <th>Precipitation_mm</th>\n",
       "    </tr>\n",
       "  </thead>\n",
       "  <tbody>\n",
       "    <tr>\n",
       "      <th>0</th>\n",
       "      <td>2017-06-16</td>\n",
       "      <td>Delhi</td>\n",
       "      <td>31.1</td>\n",
       "      <td>0.4</td>\n",
       "    </tr>\n",
       "    <tr>\n",
       "      <th>1</th>\n",
       "      <td>2017-06-17</td>\n",
       "      <td>Delhi</td>\n",
       "      <td>30.6</td>\n",
       "      <td>7.0</td>\n",
       "    </tr>\n",
       "    <tr>\n",
       "      <th>2</th>\n",
       "      <td>2017-06-18</td>\n",
       "      <td>Delhi</td>\n",
       "      <td>30.9</td>\n",
       "      <td>3.1</td>\n",
       "    </tr>\n",
       "    <tr>\n",
       "      <th>3</th>\n",
       "      <td>2017-06-19</td>\n",
       "      <td>Delhi</td>\n",
       "      <td>31.5</td>\n",
       "      <td>5.5</td>\n",
       "    </tr>\n",
       "    <tr>\n",
       "      <th>4</th>\n",
       "      <td>2017-06-20</td>\n",
       "      <td>Delhi</td>\n",
       "      <td>29.8</td>\n",
       "      <td>10.2</td>\n",
       "    </tr>\n",
       "  </tbody>\n",
       "</table>\n",
       "</div>"
      ],
      "text/plain": [
       "        Date   City  Temp_Mean_C  Precipitation_mm\n",
       "0 2017-06-16  Delhi         31.1               0.4\n",
       "1 2017-06-17  Delhi         30.6               7.0\n",
       "2 2017-06-18  Delhi         30.9               3.1\n",
       "3 2017-06-19  Delhi         31.5               5.5\n",
       "4 2017-06-20  Delhi         29.8              10.2"
      ]
     },
     "execution_count": 12,
     "metadata": {},
     "output_type": "execute_result"
    }
   ],
   "source": [
    "weather_df.head()"
   ]
  }
 ],
 "metadata": {
  "kernelspec": {
   "display_name": "Python 3 (ipykernel)",
   "language": "python",
   "name": "python3"
  },
  "language_info": {
   "codemirror_mode": {
    "name": "ipython",
    "version": 3
   },
   "file_extension": ".py",
   "mimetype": "text/x-python",
   "name": "python",
   "nbconvert_exporter": "python",
   "pygments_lexer": "ipython3",
   "version": "3.9.12"
  }
 },
 "nbformat": 4,
 "nbformat_minor": 5
}
