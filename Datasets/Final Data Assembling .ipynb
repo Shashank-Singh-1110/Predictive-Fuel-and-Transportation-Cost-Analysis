{
 "cells": [
  {
   "cell_type": "code",
   "execution_count": 1,
   "id": "849e2e54",
   "metadata": {},
   "outputs": [
    {
     "name": "stderr",
     "output_type": "stream",
     "text": [
      "/Users/shashanksingh/opt/anaconda3/lib/python3.9/site-packages/pandas/core/computation/expressions.py:21: UserWarning: Pandas requires version '2.8.4' or newer of 'numexpr' (version '2.8.1' currently installed).\n",
      "  from pandas.core.computation.check import NUMEXPR_INSTALLED\n",
      "/Users/shashanksingh/opt/anaconda3/lib/python3.9/site-packages/pandas/core/arrays/masked.py:61: UserWarning: Pandas requires version '1.3.6' or newer of 'bottleneck' (version '1.3.4' currently installed).\n",
      "  from pandas.core import (\n"
     ]
    }
   ],
   "source": [
    "import pandas as pd "
   ]
  },
  {
   "cell_type": "code",
   "execution_count": 2,
   "id": "063e9919",
   "metadata": {},
   "outputs": [],
   "source": [
    "transport_df = pd.read_csv(\"Transport Data.csv\")\n",
    "fuel_df = pd.read_csv(\"fuel_prices.csv\")"
   ]
  },
  {
   "cell_type": "code",
   "execution_count": 3,
   "id": "79d12d95",
   "metadata": {},
   "outputs": [],
   "source": [
    "transport_df['Date'] = pd.to_datetime(transport_df['Date'])\n",
    "fuel_df['Date'] = pd.to_datetime(fuel_df['Date'])"
   ]
  },
  {
   "cell_type": "code",
   "execution_count": 4,
   "id": "0598119f",
   "metadata": {},
   "outputs": [],
   "source": [
    "final_df = pd.merge(\n",
    "    transport_df, \n",
    "    fuel_df, \n",
    "    on=['Date', 'City'], \n",
    "    how='left' \n",
    ")\n"
   ]
  },
  {
   "cell_type": "code",
   "execution_count": 5,
   "id": "4d9b9692",
   "metadata": {},
   "outputs": [
    {
     "data": {
      "text/plain": [
       "0"
      ]
     },
     "execution_count": 5,
     "metadata": {},
     "output_type": "execute_result"
    }
   ],
   "source": [
    "final_df.isna().sum().sum()"
   ]
  },
  {
   "cell_type": "code",
   "execution_count": 6,
   "id": "81ef89df",
   "metadata": {
    "scrolled": true
   },
   "outputs": [],
   "source": [
    "final_df = final_df.drop(['Petrol_Price_y','Diesel_Price_y'], axis=1)"
   ]
  },
  {
   "cell_type": "code",
   "execution_count": 7,
   "id": "a08f09af",
   "metadata": {},
   "outputs": [],
   "source": [
    "final_df.rename(columns={'Petrol_Price_x': 'Petrol_Price'}, inplace=True)\n",
    "final_df.rename(columns={'Diesel_Price_x': 'Diesel_Price'}, inplace=True)"
   ]
  },
  {
   "cell_type": "code",
   "execution_count": 8,
   "id": "ea4e2d12",
   "metadata": {},
   "outputs": [
    {
     "data": {
      "text/html": [
       "<div>\n",
       "<style scoped>\n",
       "    .dataframe tbody tr th:only-of-type {\n",
       "        vertical-align: middle;\n",
       "    }\n",
       "\n",
       "    .dataframe tbody tr th {\n",
       "        vertical-align: top;\n",
       "    }\n",
       "\n",
       "    .dataframe thead th {\n",
       "        text-align: right;\n",
       "    }\n",
       "</style>\n",
       "<table border=\"1\" class=\"dataframe\">\n",
       "  <thead>\n",
       "    <tr style=\"text-align: right;\">\n",
       "      <th></th>\n",
       "      <th>Trip_ID</th>\n",
       "      <th>Date</th>\n",
       "      <th>City</th>\n",
       "      <th>Vehicle_Type</th>\n",
       "      <th>Fuel_Type</th>\n",
       "      <th>Route</th>\n",
       "      <th>Distance_km</th>\n",
       "      <th>Load_Weight_kg</th>\n",
       "      <th>Total_Fuel_Cost</th>\n",
       "      <th>Petrol_Price</th>\n",
       "      <th>Diesel_Price</th>\n",
       "      <th>Temp_Mean_C</th>\n",
       "      <th>Precipitation_mm</th>\n",
       "    </tr>\n",
       "  </thead>\n",
       "  <tbody>\n",
       "    <tr>\n",
       "      <th>0</th>\n",
       "      <td>925eb005-b309-4038-b367-4e169e96aba4</td>\n",
       "      <td>2025-10-22</td>\n",
       "      <td>Chennai</td>\n",
       "      <td>Van</td>\n",
       "      <td>Diesel</td>\n",
       "      <td>Route_C</td>\n",
       "      <td>2114.72</td>\n",
       "      <td>563.96</td>\n",
       "      <td>17298.10</td>\n",
       "      <td>100.8</td>\n",
       "      <td>92.39</td>\n",
       "      <td>26.8</td>\n",
       "      <td>35.2</td>\n",
       "    </tr>\n",
       "    <tr>\n",
       "      <th>1</th>\n",
       "      <td>6671f6c0-6dbc-4d65-a271-53197f308a35</td>\n",
       "      <td>2025-10-22</td>\n",
       "      <td>Chennai</td>\n",
       "      <td>Motorcycle</td>\n",
       "      <td>Petrol</td>\n",
       "      <td>Route_B</td>\n",
       "      <td>2333.02</td>\n",
       "      <td>0.00</td>\n",
       "      <td>5501.02</td>\n",
       "      <td>100.8</td>\n",
       "      <td>92.39</td>\n",
       "      <td>26.8</td>\n",
       "      <td>35.2</td>\n",
       "    </tr>\n",
       "    <tr>\n",
       "      <th>2</th>\n",
       "      <td>b0bf48c7-ed4b-4089-ae15-54f36b2bc09d</td>\n",
       "      <td>2025-10-22</td>\n",
       "      <td>Chennai</td>\n",
       "      <td>Van</td>\n",
       "      <td>Diesel</td>\n",
       "      <td>Route_C</td>\n",
       "      <td>964.37</td>\n",
       "      <td>57.65</td>\n",
       "      <td>7823.13</td>\n",
       "      <td>100.8</td>\n",
       "      <td>92.39</td>\n",
       "      <td>26.8</td>\n",
       "      <td>35.2</td>\n",
       "    </tr>\n",
       "    <tr>\n",
       "      <th>3</th>\n",
       "      <td>4f35166e-a6cc-45a2-8262-8eeb51e617f3</td>\n",
       "      <td>2025-10-22</td>\n",
       "      <td>Chennai</td>\n",
       "      <td>Motorcycle</td>\n",
       "      <td>Petrol</td>\n",
       "      <td>Route_C</td>\n",
       "      <td>1351.28</td>\n",
       "      <td>0.00</td>\n",
       "      <td>3186.18</td>\n",
       "      <td>100.8</td>\n",
       "      <td>92.39</td>\n",
       "      <td>26.8</td>\n",
       "      <td>35.2</td>\n",
       "    </tr>\n",
       "    <tr>\n",
       "      <th>4</th>\n",
       "      <td>8437191a-9a9c-4a3f-a4e1-472d12e9b7ed</td>\n",
       "      <td>2025-10-22</td>\n",
       "      <td>Chennai</td>\n",
       "      <td>Van</td>\n",
       "      <td>Diesel</td>\n",
       "      <td>Route_A</td>\n",
       "      <td>2473.00</td>\n",
       "      <td>454.14</td>\n",
       "      <td>20192.71</td>\n",
       "      <td>100.8</td>\n",
       "      <td>92.39</td>\n",
       "      <td>26.8</td>\n",
       "      <td>35.2</td>\n",
       "    </tr>\n",
       "  </tbody>\n",
       "</table>\n",
       "</div>"
      ],
      "text/plain": [
       "                                Trip_ID       Date     City Vehicle_Type  \\\n",
       "0  925eb005-b309-4038-b367-4e169e96aba4 2025-10-22  Chennai          Van   \n",
       "1  6671f6c0-6dbc-4d65-a271-53197f308a35 2025-10-22  Chennai   Motorcycle   \n",
       "2  b0bf48c7-ed4b-4089-ae15-54f36b2bc09d 2025-10-22  Chennai          Van   \n",
       "3  4f35166e-a6cc-45a2-8262-8eeb51e617f3 2025-10-22  Chennai   Motorcycle   \n",
       "4  8437191a-9a9c-4a3f-a4e1-472d12e9b7ed 2025-10-22  Chennai          Van   \n",
       "\n",
       "  Fuel_Type    Route  Distance_km  Load_Weight_kg  Total_Fuel_Cost  \\\n",
       "0    Diesel  Route_C      2114.72          563.96         17298.10   \n",
       "1    Petrol  Route_B      2333.02            0.00          5501.02   \n",
       "2    Diesel  Route_C       964.37           57.65          7823.13   \n",
       "3    Petrol  Route_C      1351.28            0.00          3186.18   \n",
       "4    Diesel  Route_A      2473.00          454.14         20192.71   \n",
       "\n",
       "   Petrol_Price  Diesel_Price  Temp_Mean_C  Precipitation_mm  \n",
       "0         100.8         92.39         26.8              35.2  \n",
       "1         100.8         92.39         26.8              35.2  \n",
       "2         100.8         92.39         26.8              35.2  \n",
       "3         100.8         92.39         26.8              35.2  \n",
       "4         100.8         92.39         26.8              35.2  "
      ]
     },
     "execution_count": 8,
     "metadata": {},
     "output_type": "execute_result"
    }
   ],
   "source": [
    "final_df.head()"
   ]
  },
  {
   "cell_type": "code",
   "execution_count": 9,
   "id": "a2f52adc",
   "metadata": {},
   "outputs": [],
   "source": [
    "final_df.to_csv('final_dataset.csv', index=False)"
   ]
  }
 ],
 "metadata": {
  "kernelspec": {
   "display_name": "Python 3 (ipykernel)",
   "language": "python",
   "name": "python3"
  },
  "language_info": {
   "codemirror_mode": {
    "name": "ipython",
    "version": 3
   },
   "file_extension": ".py",
   "mimetype": "text/x-python",
   "name": "python",
   "nbconvert_exporter": "python",
   "pygments_lexer": "ipython3",
   "version": "3.9.12"
  }
 },
 "nbformat": 4,
 "nbformat_minor": 5
}
