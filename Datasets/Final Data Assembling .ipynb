{
 "cells": [
  {
   "cell_type": "code",
   "execution_count": 1,
   "id": "849e2e54",
   "metadata": {},
   "outputs": [
    {
     "name": "stderr",
     "output_type": "stream",
     "text": [
      "/Users/shashanksingh/opt/anaconda3/lib/python3.9/site-packages/pandas/core/computation/expressions.py:21: UserWarning: Pandas requires version '2.8.4' or newer of 'numexpr' (version '2.8.1' currently installed).\n",
      "  from pandas.core.computation.check import NUMEXPR_INSTALLED\n",
      "/Users/shashanksingh/opt/anaconda3/lib/python3.9/site-packages/pandas/core/arrays/masked.py:61: UserWarning: Pandas requires version '1.3.6' or newer of 'bottleneck' (version '1.3.4' currently installed).\n",
      "  from pandas.core import (\n"
     ]
    }
   ],
   "source": [
    "import pandas as pd "
   ]
  },
  {
   "cell_type": "code",
   "execution_count": 2,
   "id": "063e9919",
   "metadata": {},
   "outputs": [],
   "source": [
    "transport_df = pd.read_csv(\"Transport Data.csv\")\n",
    "fuel_df = pd.read_csv(\"fuel_prices.csv\")\n",
    "weather_df = pd.read_csv(\"Weather Data.csv\")"
   ]
  },
  {
   "cell_type": "code",
   "execution_count": 3,
   "id": "79d12d95",
   "metadata": {},
   "outputs": [],
   "source": [
    "transport_df['Date'] = pd.to_datetime(transport_df['Date'])\n",
    "fuel_df['Date'] = pd.to_datetime(fuel_df['Date'])\n",
    "weather_df['Date'] = pd.to_datetime(weather_df['Date'])"
   ]
  },
  {
   "cell_type": "code",
   "execution_count": 4,
   "id": "0598119f",
   "metadata": {},
   "outputs": [],
   "source": [
    "merged_df = pd.merge(\n",
    "    transport_df, \n",
    "    fuel_df, \n",
    "    on=['Date', 'City'], \n",
    "    how='left' \n",
    ")\n",
    "final_df = pd.merge(\n",
    "    merged_df,\n",
    "    weather_df,\n",
    "    on=['Date', 'City'],\n",
    "    how='left' \n",
    ")"
   ]
  },
  {
   "cell_type": "code",
   "execution_count": 5,
   "id": "4d9b9692",
   "metadata": {},
   "outputs": [
    {
     "data": {
      "text/plain": [
       "0"
      ]
     },
     "execution_count": 5,
     "metadata": {},
     "output_type": "execute_result"
    }
   ],
   "source": [
    "final_df.isna().sum().sum()"
   ]
  },
  {
   "cell_type": "code",
   "execution_count": 6,
   "id": "a2f52adc",
   "metadata": {},
   "outputs": [],
   "source": [
    "final_df.to_csv('final_dataset.csv', index=False)"
   ]
  },
  {
   "cell_type": "code",
   "execution_count": 7,
   "id": "9f06bbf8",
   "metadata": {},
   "outputs": [
    {
     "data": {
      "text/html": [
       "<div>\n",
       "<style scoped>\n",
       "    .dataframe tbody tr th:only-of-type {\n",
       "        vertical-align: middle;\n",
       "    }\n",
       "\n",
       "    .dataframe tbody tr th {\n",
       "        vertical-align: top;\n",
       "    }\n",
       "\n",
       "    .dataframe thead th {\n",
       "        text-align: right;\n",
       "    }\n",
       "</style>\n",
       "<table border=\"1\" class=\"dataframe\">\n",
       "  <thead>\n",
       "    <tr style=\"text-align: right;\">\n",
       "      <th></th>\n",
       "      <th>Trip_ID</th>\n",
       "      <th>Date</th>\n",
       "      <th>City</th>\n",
       "      <th>Vehicle_Type</th>\n",
       "      <th>Fuel_Type</th>\n",
       "      <th>Route</th>\n",
       "      <th>Distance_km</th>\n",
       "      <th>Load_Weight_kg</th>\n",
       "      <th>Total_Fuel_Cost</th>\n",
       "      <th>Petrol_Price</th>\n",
       "      <th>Diesel_Price</th>\n",
       "      <th>Temp_Mean_C</th>\n",
       "      <th>Precipitation_mm</th>\n",
       "    </tr>\n",
       "  </thead>\n",
       "  <tbody>\n",
       "    <tr>\n",
       "      <th>0</th>\n",
       "      <td>c764d41f-9521-4bfc-8c07-2c5fffc8e21b</td>\n",
       "      <td>2025-10-22</td>\n",
       "      <td>Chennai</td>\n",
       "      <td>Truck</td>\n",
       "      <td>Diesel</td>\n",
       "      <td>Route_C</td>\n",
       "      <td>2532.43</td>\n",
       "      <td>14274.99</td>\n",
       "      <td>65492.27</td>\n",
       "      <td>100.8</td>\n",
       "      <td>92.39</td>\n",
       "      <td>26.8</td>\n",
       "      <td>35.2</td>\n",
       "    </tr>\n",
       "    <tr>\n",
       "      <th>1</th>\n",
       "      <td>dc63e782-8978-4c93-8986-7dd5a9a6a5ec</td>\n",
       "      <td>2025-10-22</td>\n",
       "      <td>Chennai</td>\n",
       "      <td>Truck</td>\n",
       "      <td>Diesel</td>\n",
       "      <td>Route_B</td>\n",
       "      <td>2795.18</td>\n",
       "      <td>7538.01</td>\n",
       "      <td>60818.32</td>\n",
       "      <td>100.8</td>\n",
       "      <td>92.39</td>\n",
       "      <td>26.8</td>\n",
       "      <td>35.2</td>\n",
       "    </tr>\n",
       "    <tr>\n",
       "      <th>2</th>\n",
       "      <td>02533cdd-17ac-40b7-9b0c-f618ecc4c086</td>\n",
       "      <td>2025-10-22</td>\n",
       "      <td>Chennai</td>\n",
       "      <td>Truck</td>\n",
       "      <td>Diesel</td>\n",
       "      <td>Route_B</td>\n",
       "      <td>2934.21</td>\n",
       "      <td>12934.98</td>\n",
       "      <td>73139.49</td>\n",
       "      <td>100.8</td>\n",
       "      <td>92.39</td>\n",
       "      <td>26.8</td>\n",
       "      <td>35.2</td>\n",
       "    </tr>\n",
       "    <tr>\n",
       "      <th>3</th>\n",
       "      <td>18bcafd1-56b3-4c1a-9503-6824ed12f37d</td>\n",
       "      <td>2025-10-22</td>\n",
       "      <td>Chennai</td>\n",
       "      <td>Motorcycle</td>\n",
       "      <td>Petrol</td>\n",
       "      <td>Route_C</td>\n",
       "      <td>1964.62</td>\n",
       "      <td>0.00</td>\n",
       "      <td>4400.75</td>\n",
       "      <td>100.8</td>\n",
       "      <td>92.39</td>\n",
       "      <td>26.8</td>\n",
       "      <td>35.2</td>\n",
       "    </tr>\n",
       "    <tr>\n",
       "      <th>4</th>\n",
       "      <td>b53d379b-9a1c-4aa7-9183-57c6e8c11bc6</td>\n",
       "      <td>2025-10-22</td>\n",
       "      <td>Chennai</td>\n",
       "      <td>Van</td>\n",
       "      <td>Diesel</td>\n",
       "      <td>Route_C</td>\n",
       "      <td>2739.38</td>\n",
       "      <td>706.93</td>\n",
       "      <td>21215.93</td>\n",
       "      <td>100.8</td>\n",
       "      <td>92.39</td>\n",
       "      <td>26.8</td>\n",
       "      <td>35.2</td>\n",
       "    </tr>\n",
       "  </tbody>\n",
       "</table>\n",
       "</div>"
      ],
      "text/plain": [
       "                                Trip_ID       Date     City Vehicle_Type  \\\n",
       "0  c764d41f-9521-4bfc-8c07-2c5fffc8e21b 2025-10-22  Chennai        Truck   \n",
       "1  dc63e782-8978-4c93-8986-7dd5a9a6a5ec 2025-10-22  Chennai        Truck   \n",
       "2  02533cdd-17ac-40b7-9b0c-f618ecc4c086 2025-10-22  Chennai        Truck   \n",
       "3  18bcafd1-56b3-4c1a-9503-6824ed12f37d 2025-10-22  Chennai   Motorcycle   \n",
       "4  b53d379b-9a1c-4aa7-9183-57c6e8c11bc6 2025-10-22  Chennai          Van   \n",
       "\n",
       "  Fuel_Type    Route  Distance_km  Load_Weight_kg  Total_Fuel_Cost  \\\n",
       "0    Diesel  Route_C      2532.43        14274.99         65492.27   \n",
       "1    Diesel  Route_B      2795.18         7538.01         60818.32   \n",
       "2    Diesel  Route_B      2934.21        12934.98         73139.49   \n",
       "3    Petrol  Route_C      1964.62            0.00          4400.75   \n",
       "4    Diesel  Route_C      2739.38          706.93         21215.93   \n",
       "\n",
       "   Petrol_Price  Diesel_Price  Temp_Mean_C  Precipitation_mm  \n",
       "0         100.8         92.39         26.8              35.2  \n",
       "1         100.8         92.39         26.8              35.2  \n",
       "2         100.8         92.39         26.8              35.2  \n",
       "3         100.8         92.39         26.8              35.2  \n",
       "4         100.8         92.39         26.8              35.2  "
      ]
     },
     "execution_count": 7,
     "metadata": {},
     "output_type": "execute_result"
    }
   ],
   "source": [
    "final_df.head()"
   ]
  }
 ],
 "metadata": {
  "kernelspec": {
   "display_name": "Python 3 (ipykernel)",
   "language": "python",
   "name": "python3"
  },
  "language_info": {
   "codemirror_mode": {
    "name": "ipython",
    "version": 3
   },
   "file_extension": ".py",
   "mimetype": "text/x-python",
   "name": "python",
   "nbconvert_exporter": "python",
   "pygments_lexer": "ipython3",
   "version": "3.9.12"
  }
 },
 "nbformat": 4,
 "nbformat_minor": 5
}
