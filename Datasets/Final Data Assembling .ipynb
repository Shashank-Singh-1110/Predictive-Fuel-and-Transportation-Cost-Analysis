{
 "cells": [
  {
   "cell_type": "code",
   "execution_count": 1,
   "id": "26a46c15",
   "metadata": {},
   "outputs": [
    {
     "name": "stderr",
     "output_type": "stream",
     "text": [
      "/Users/shashanksingh/opt/anaconda3/lib/python3.9/site-packages/pandas/core/computation/expressions.py:21: UserWarning: Pandas requires version '2.8.4' or newer of 'numexpr' (version '2.8.1' currently installed).\n",
      "  from pandas.core.computation.check import NUMEXPR_INSTALLED\n",
      "/Users/shashanksingh/opt/anaconda3/lib/python3.9/site-packages/pandas/core/arrays/masked.py:61: UserWarning: Pandas requires version '1.3.6' or newer of 'bottleneck' (version '1.3.4' currently installed).\n",
      "  from pandas.core import (\n"
     ]
    }
   ],
   "source": [
    "import pandas as pd "
   ]
  },
  {
   "cell_type": "code",
   "execution_count": 2,
   "id": "45b7616e",
   "metadata": {},
   "outputs": [],
   "source": [
    "transport_df = pd.read_csv(\"Transport Data.csv\")\n",
    "fuel_df = pd.read_csv(\"fuel_prices.csv\")\n",
    "weather_df = pd.read_csv(\"Weather Data.csv\")"
   ]
  },
  {
   "cell_type": "code",
   "execution_count": 3,
   "id": "1ba6b8f1",
   "metadata": {},
   "outputs": [],
   "source": [
    "transport_df['Date'] = pd.to_datetime(transport_df['Date'])\n",
    "fuel_df['Date'] = pd.to_datetime(fuel_df['Date'])\n",
    "weather_df['Date'] = pd.to_datetime(weather_df['Date'])"
   ]
  },
  {
   "cell_type": "code",
   "execution_count": 5,
   "id": "842b738c",
   "metadata": {},
   "outputs": [],
   "source": [
    "merged_df = pd.merge(\n",
    "    transport_df, \n",
    "    fuel_df, \n",
    "    on=['Date', 'City'], \n",
    "    how='left' \n",
    ")\n",
    "final_df = pd.merge(\n",
    "    merged_df,\n",
    "    weather_df,\n",
    "    on=['Date', 'City'],\n",
    "    how='left' \n",
    ")"
   ]
  },
  {
   "cell_type": "code",
   "execution_count": 8,
   "id": "9afa6fa1",
   "metadata": {},
   "outputs": [
    {
     "data": {
      "text/plain": [
       "0"
      ]
     },
     "execution_count": 8,
     "metadata": {},
     "output_type": "execute_result"
    }
   ],
   "source": [
    "final_df.isna().sum().sum()"
   ]
  },
  {
   "cell_type": "code",
   "execution_count": 9,
   "id": "abaedc3e",
   "metadata": {},
   "outputs": [],
   "source": [
    "final_df.to_csv('final_dataset.csv', index=False)"
   ]
  },
  {
   "cell_type": "code",
   "execution_count": 10,
   "id": "a6bf2d52",
   "metadata": {},
   "outputs": [
    {
     "data": {
      "text/html": [
       "<div>\n",
       "<style scoped>\n",
       "    .dataframe tbody tr th:only-of-type {\n",
       "        vertical-align: middle;\n",
       "    }\n",
       "\n",
       "    .dataframe tbody tr th {\n",
       "        vertical-align: top;\n",
       "    }\n",
       "\n",
       "    .dataframe thead th {\n",
       "        text-align: right;\n",
       "    }\n",
       "</style>\n",
       "<table border=\"1\" class=\"dataframe\">\n",
       "  <thead>\n",
       "    <tr style=\"text-align: right;\">\n",
       "      <th></th>\n",
       "      <th>Trip_ID</th>\n",
       "      <th>Date</th>\n",
       "      <th>City</th>\n",
       "      <th>Vehicle_Type</th>\n",
       "      <th>Fuel_Type</th>\n",
       "      <th>Route</th>\n",
       "      <th>Distance_km</th>\n",
       "      <th>Load_Weight_kg</th>\n",
       "      <th>Total_Fuel_Cost</th>\n",
       "      <th>Petrol_Price</th>\n",
       "      <th>Diesel_Price</th>\n",
       "      <th>Temp_Mean_C</th>\n",
       "      <th>Precipitation_mm</th>\n",
       "    </tr>\n",
       "  </thead>\n",
       "  <tbody>\n",
       "    <tr>\n",
       "      <th>0</th>\n",
       "      <td>2bef172c-7c6b-444c-b3b4-68bdc80c3c63</td>\n",
       "      <td>2025-10-22</td>\n",
       "      <td>Chennai</td>\n",
       "      <td>Van</td>\n",
       "      <td>Diesel</td>\n",
       "      <td>Route_A</td>\n",
       "      <td>81.28</td>\n",
       "      <td>280.41</td>\n",
       "      <td>627.25</td>\n",
       "      <td>100.8</td>\n",
       "      <td>92.39</td>\n",
       "      <td>26.8</td>\n",
       "      <td>35.2</td>\n",
       "    </tr>\n",
       "    <tr>\n",
       "      <th>1</th>\n",
       "      <td>d1582a29-ef94-4a79-b962-c7a4ee576c32</td>\n",
       "      <td>2025-10-22</td>\n",
       "      <td>Chennai</td>\n",
       "      <td>Van</td>\n",
       "      <td>Diesel</td>\n",
       "      <td>Route_B</td>\n",
       "      <td>201.81</td>\n",
       "      <td>701.00</td>\n",
       "      <td>1562.90</td>\n",
       "      <td>100.8</td>\n",
       "      <td>92.39</td>\n",
       "      <td>26.8</td>\n",
       "      <td>35.2</td>\n",
       "    </tr>\n",
       "    <tr>\n",
       "      <th>2</th>\n",
       "      <td>abf1e55a-3b87-4453-8f0d-7eb4099001a7</td>\n",
       "      <td>2025-10-22</td>\n",
       "      <td>Chennai</td>\n",
       "      <td>Truck</td>\n",
       "      <td>Diesel</td>\n",
       "      <td>Route_C</td>\n",
       "      <td>121.27</td>\n",
       "      <td>9865.66</td>\n",
       "      <td>2791.66</td>\n",
       "      <td>100.8</td>\n",
       "      <td>92.39</td>\n",
       "      <td>26.8</td>\n",
       "      <td>35.2</td>\n",
       "    </tr>\n",
       "    <tr>\n",
       "      <th>3</th>\n",
       "      <td>af73d7de-7d19-46ef-81e4-d7424095606c</td>\n",
       "      <td>2025-10-22</td>\n",
       "      <td>Chennai</td>\n",
       "      <td>Truck</td>\n",
       "      <td>Diesel</td>\n",
       "      <td>Route_A</td>\n",
       "      <td>198.82</td>\n",
       "      <td>10997.99</td>\n",
       "      <td>4709.75</td>\n",
       "      <td>100.8</td>\n",
       "      <td>92.39</td>\n",
       "      <td>26.8</td>\n",
       "      <td>35.2</td>\n",
       "    </tr>\n",
       "    <tr>\n",
       "      <th>4</th>\n",
       "      <td>b910776e-2453-442a-90f7-967e48a5b4eb</td>\n",
       "      <td>2025-10-22</td>\n",
       "      <td>Chennai</td>\n",
       "      <td>Van</td>\n",
       "      <td>Diesel</td>\n",
       "      <td>Route_A</td>\n",
       "      <td>123.73</td>\n",
       "      <td>222.62</td>\n",
       "      <td>954.39</td>\n",
       "      <td>100.8</td>\n",
       "      <td>92.39</td>\n",
       "      <td>26.8</td>\n",
       "      <td>35.2</td>\n",
       "    </tr>\n",
       "  </tbody>\n",
       "</table>\n",
       "</div>"
      ],
      "text/plain": [
       "                                Trip_ID       Date     City Vehicle_Type  \\\n",
       "0  2bef172c-7c6b-444c-b3b4-68bdc80c3c63 2025-10-22  Chennai          Van   \n",
       "1  d1582a29-ef94-4a79-b962-c7a4ee576c32 2025-10-22  Chennai          Van   \n",
       "2  abf1e55a-3b87-4453-8f0d-7eb4099001a7 2025-10-22  Chennai        Truck   \n",
       "3  af73d7de-7d19-46ef-81e4-d7424095606c 2025-10-22  Chennai        Truck   \n",
       "4  b910776e-2453-442a-90f7-967e48a5b4eb 2025-10-22  Chennai          Van   \n",
       "\n",
       "  Fuel_Type    Route  Distance_km  Load_Weight_kg  Total_Fuel_Cost  \\\n",
       "0    Diesel  Route_A        81.28          280.41           627.25   \n",
       "1    Diesel  Route_B       201.81          701.00          1562.90   \n",
       "2    Diesel  Route_C       121.27         9865.66          2791.66   \n",
       "3    Diesel  Route_A       198.82        10997.99          4709.75   \n",
       "4    Diesel  Route_A       123.73          222.62           954.39   \n",
       "\n",
       "   Petrol_Price  Diesel_Price  Temp_Mean_C  Precipitation_mm  \n",
       "0         100.8         92.39         26.8              35.2  \n",
       "1         100.8         92.39         26.8              35.2  \n",
       "2         100.8         92.39         26.8              35.2  \n",
       "3         100.8         92.39         26.8              35.2  \n",
       "4         100.8         92.39         26.8              35.2  "
      ]
     },
     "execution_count": 10,
     "metadata": {},
     "output_type": "execute_result"
    }
   ],
   "source": [
    "final_df.head()"
   ]
  }
 ],
 "metadata": {
  "kernelspec": {
   "display_name": "Python 3 (ipykernel)",
   "language": "python",
   "name": "python3"
  },
  "language_info": {
   "codemirror_mode": {
    "name": "ipython",
    "version": 3
   },
   "file_extension": ".py",
   "mimetype": "text/x-python",
   "name": "python",
   "nbconvert_exporter": "python",
   "pygments_lexer": "ipython3",
   "version": "3.9.12"
  }
 },
 "nbformat": 4,
 "nbformat_minor": 5
}
