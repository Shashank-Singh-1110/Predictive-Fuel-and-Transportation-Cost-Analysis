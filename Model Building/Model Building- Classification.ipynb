{
 "cells": [
  {
   "cell_type": "code",
   "execution_count": 1,
   "id": "39bc4ac0",
   "metadata": {},
   "outputs": [
    {
     "name": "stderr",
     "output_type": "stream",
     "text": [
      "/Users/shashanksingh/opt/anaconda3/lib/python3.9/site-packages/pandas/core/computation/expressions.py:21: UserWarning: Pandas requires version '2.8.4' or newer of 'numexpr' (version '2.8.1' currently installed).\n",
      "  from pandas.core.computation.check import NUMEXPR_INSTALLED\n",
      "/Users/shashanksingh/opt/anaconda3/lib/python3.9/site-packages/pandas/core/arrays/masked.py:61: UserWarning: Pandas requires version '1.3.6' or newer of 'bottleneck' (version '1.3.4' currently installed).\n",
      "  from pandas.core import (\n"
     ]
    }
   ],
   "source": [
    "import numpy as np\n",
    "import pandas as pd\n",
    "import seaborn as sns\n",
    "import matplotlib.pyplot as plt\n",
    "from sklearn.preprocessing import StandardScaler\n",
    "from sklearn.preprocessing import OneHotEncoder\n",
    "from sklearn.linear_model import LogisticRegression \n",
    "from sklearn.model_selection import train_test_split\n",
    "from sklearn.pipeline import Pipeline\n",
    "from sklearn.compose import ColumnTransformer\n",
    "from sklearn.metrics import accuracy_score, classification_report, confusion_matrix"
   ]
  },
  {
   "cell_type": "code",
   "execution_count": 2,
   "id": "c01c921b",
   "metadata": {},
   "outputs": [
    {
     "data": {
      "text/html": [
       "<div>\n",
       "<style scoped>\n",
       "    .dataframe tbody tr th:only-of-type {\n",
       "        vertical-align: middle;\n",
       "    }\n",
       "\n",
       "    .dataframe tbody tr th {\n",
       "        vertical-align: top;\n",
       "    }\n",
       "\n",
       "    .dataframe thead th {\n",
       "        text-align: right;\n",
       "    }\n",
       "</style>\n",
       "<table border=\"1\" class=\"dataframe\">\n",
       "  <thead>\n",
       "    <tr style=\"text-align: right;\">\n",
       "      <th></th>\n",
       "      <th>Trip_ID</th>\n",
       "      <th>Date</th>\n",
       "      <th>City</th>\n",
       "      <th>Vehicle_Type</th>\n",
       "      <th>Fuel_Type</th>\n",
       "      <th>Route</th>\n",
       "      <th>Distance_km</th>\n",
       "      <th>Load_Weight_kg</th>\n",
       "      <th>Total_Fuel_Cost</th>\n",
       "      <th>Petrol_Price</th>\n",
       "      <th>Diesel_Price</th>\n",
       "      <th>Temp_Mean_C</th>\n",
       "      <th>Precipitation_mm</th>\n",
       "    </tr>\n",
       "  </thead>\n",
       "  <tbody>\n",
       "    <tr>\n",
       "      <th>96539</th>\n",
       "      <td>373426a3-4dca-4c65-a1e1-f84cd14c1e63</td>\n",
       "      <td>2017-06-16</td>\n",
       "      <td>Mumbai</td>\n",
       "      <td>Motorcycle</td>\n",
       "      <td>Petrol</td>\n",
       "      <td>Route_B</td>\n",
       "      <td>1473.65</td>\n",
       "      <td>0.00</td>\n",
       "      <td>2511.75</td>\n",
       "      <td>76.7</td>\n",
       "      <td>59.9</td>\n",
       "      <td>28.1</td>\n",
       "      <td>10.0</td>\n",
       "    </tr>\n",
       "    <tr>\n",
       "      <th>96540</th>\n",
       "      <td>3da4c805-1c33-497c-9f7c-8f122361eb44</td>\n",
       "      <td>2017-06-16</td>\n",
       "      <td>Mumbai</td>\n",
       "      <td>Truck</td>\n",
       "      <td>Diesel</td>\n",
       "      <td>Route_C</td>\n",
       "      <td>1294.05</td>\n",
       "      <td>14947.10</td>\n",
       "      <td>18594.51</td>\n",
       "      <td>76.7</td>\n",
       "      <td>59.9</td>\n",
       "      <td>28.1</td>\n",
       "      <td>10.0</td>\n",
       "    </tr>\n",
       "    <tr>\n",
       "      <th>96541</th>\n",
       "      <td>2ad83eea-68fa-4019-b129-a4b6303f20d2</td>\n",
       "      <td>2017-06-16</td>\n",
       "      <td>Mumbai</td>\n",
       "      <td>Van</td>\n",
       "      <td>Diesel</td>\n",
       "      <td>Route_C</td>\n",
       "      <td>418.42</td>\n",
       "      <td>660.99</td>\n",
       "      <td>2111.37</td>\n",
       "      <td>76.7</td>\n",
       "      <td>59.9</td>\n",
       "      <td>28.1</td>\n",
       "      <td>10.0</td>\n",
       "    </tr>\n",
       "    <tr>\n",
       "      <th>96542</th>\n",
       "      <td>8ff04c6a-83dc-4bf5-9b78-e4d22b935b86</td>\n",
       "      <td>2017-06-16</td>\n",
       "      <td>Mumbai</td>\n",
       "      <td>Van</td>\n",
       "      <td>Diesel</td>\n",
       "      <td>Route_C</td>\n",
       "      <td>745.21</td>\n",
       "      <td>348.68</td>\n",
       "      <td>3741.33</td>\n",
       "      <td>76.7</td>\n",
       "      <td>59.9</td>\n",
       "      <td>28.1</td>\n",
       "      <td>10.0</td>\n",
       "    </tr>\n",
       "    <tr>\n",
       "      <th>96543</th>\n",
       "      <td>8d2d1f12-c6ee-4e59-b7a7-fb299cc8c28d</td>\n",
       "      <td>2017-06-16</td>\n",
       "      <td>Mumbai</td>\n",
       "      <td>Motorcycle</td>\n",
       "      <td>Petrol</td>\n",
       "      <td>Route_A</td>\n",
       "      <td>225.99</td>\n",
       "      <td>0.00</td>\n",
       "      <td>385.19</td>\n",
       "      <td>76.7</td>\n",
       "      <td>59.9</td>\n",
       "      <td>28.1</td>\n",
       "      <td>10.0</td>\n",
       "    </tr>\n",
       "  </tbody>\n",
       "</table>\n",
       "</div>"
      ],
      "text/plain": [
       "                                    Trip_ID        Date    City Vehicle_Type  \\\n",
       "96539  373426a3-4dca-4c65-a1e1-f84cd14c1e63  2017-06-16  Mumbai   Motorcycle   \n",
       "96540  3da4c805-1c33-497c-9f7c-8f122361eb44  2017-06-16  Mumbai        Truck   \n",
       "96541  2ad83eea-68fa-4019-b129-a4b6303f20d2  2017-06-16  Mumbai          Van   \n",
       "96542  8ff04c6a-83dc-4bf5-9b78-e4d22b935b86  2017-06-16  Mumbai          Van   \n",
       "96543  8d2d1f12-c6ee-4e59-b7a7-fb299cc8c28d  2017-06-16  Mumbai   Motorcycle   \n",
       "\n",
       "      Fuel_Type    Route  Distance_km  Load_Weight_kg  Total_Fuel_Cost  \\\n",
       "96539    Petrol  Route_B      1473.65            0.00          2511.75   \n",
       "96540    Diesel  Route_C      1294.05        14947.10         18594.51   \n",
       "96541    Diesel  Route_C       418.42          660.99          2111.37   \n",
       "96542    Diesel  Route_C       745.21          348.68          3741.33   \n",
       "96543    Petrol  Route_A       225.99            0.00           385.19   \n",
       "\n",
       "       Petrol_Price  Diesel_Price  Temp_Mean_C  Precipitation_mm  \n",
       "96539          76.7          59.9         28.1              10.0  \n",
       "96540          76.7          59.9         28.1              10.0  \n",
       "96541          76.7          59.9         28.1              10.0  \n",
       "96542          76.7          59.9         28.1              10.0  \n",
       "96543          76.7          59.9         28.1              10.0  "
      ]
     },
     "execution_count": 2,
     "metadata": {},
     "output_type": "execute_result"
    }
   ],
   "source": [
    "budget_threshold = 3000\n",
    "df = pd.read_csv('final_dataset.csv')\n",
    "df.tail()"
   ]
  },
  {
   "cell_type": "code",
   "execution_count": 3,
   "id": "84c688b5",
   "metadata": {},
   "outputs": [
    {
     "name": "stdout",
     "output_type": "stream",
     "text": [
      "Created new target: 'Over_Budget'. Threshold = ₹3000\n",
      "Percentage of trips over budget: 81.39%\n"
     ]
    }
   ],
   "source": [
    "y = (df['Total_Fuel_Cost'] > budget_threshold).astype(int)\n",
    "X = df.drop(['Total_Fuel_Cost', 'Trip_ID', 'Date'], axis=1)\n",
    "\n",
    "print(f\"Created new target: 'Over_Budget'. Threshold = ₹{budget_threshold}\")\n",
    "print(f\"Percentage of trips over budget: {y.mean() * 100:.2f}%\")"
   ]
  },
  {
   "cell_type": "code",
   "execution_count": 4,
   "id": "cd75b8a8",
   "metadata": {},
   "outputs": [],
   "source": [
    "categorical_features = ['City', 'Vehicle_Type', 'Fuel_Type', 'Route']\n",
    "numerical_features = X.drop(columns=categorical_features).columns\n",
    "preprocessor = ColumnTransformer(transformers=[\n",
    "    ('cat', OneHotEncoder(handle_unknown='ignore'), categorical_features),\n",
    "    ('num', StandardScaler(), numerical_features)\n",
    "])"
   ]
  },
  {
   "cell_type": "code",
   "execution_count": 5,
   "id": "8a838ec1",
   "metadata": {},
   "outputs": [],
   "source": [
    "X_train, X_test, y_train, y_test = train_test_split(X,y,test_size=0.2, random_state=42, stratify=y)\n",
    "model = Pipeline(steps=[\n",
    "    ('preprocessor', preprocessor),\n",
    "    ('classifier', LogisticRegression(random_state=42))\n",
    "])"
   ]
  },
  {
   "cell_type": "code",
   "execution_count": 6,
   "id": "d3e0d33c",
   "metadata": {},
   "outputs": [],
   "source": [
    "model.fit(X_train, y_train)\n",
    "y_pred = model.predict(X_test)"
   ]
  },
  {
   "cell_type": "code",
   "execution_count": 7,
   "id": "efbd6e0b",
   "metadata": {},
   "outputs": [
    {
     "name": "stdout",
     "output_type": "stream",
     "text": [
      "Accuracy: 98.30%\n"
     ]
    }
   ],
   "source": [
    "accuracy = accuracy_score(y_test, y_pred)\n",
    "print(f\"Accuracy: {accuracy * 100:.2f}%\")"
   ]
  },
  {
   "cell_type": "code",
   "execution_count": 8,
   "id": "6cf1e9f2",
   "metadata": {},
   "outputs": [
    {
     "name": "stdout",
     "output_type": "stream",
     "text": [
      "\n",
      "Classification Report:\n",
      "                  precision    recall  f1-score   support\n",
      "\n",
      "Under Budget (0)       0.95      0.95      0.95      3593\n",
      " Over Budget (1)       0.99      0.99      0.99     15716\n",
      "\n",
      "        accuracy                           0.98     19309\n",
      "       macro avg       0.97      0.97      0.97     19309\n",
      "    weighted avg       0.98      0.98      0.98     19309\n",
      "\n"
     ]
    }
   ],
   "source": [
    "print(\"\\nClassification Report:\")\n",
    "print(classification_report(y_test, y_pred, target_names=['Under Budget (0)', 'Over Budget (1)']))"
   ]
  },
  {
   "cell_type": "code",
   "execution_count": 9,
   "id": "91e20b1f",
   "metadata": {
    "scrolled": true
   },
   "outputs": [
    {
     "name": "stdout",
     "output_type": "stream",
     "text": [
      "\n",
      "Confusion Matrix:\n"
     ]
    },
    {
     "data": {
      "image/png": "[encoded data removed]",
      "text/plain": [
       "<Figure size 800x600 with 2 Axes>"
      ]
     },
     "metadata": {},
     "output_type": "display_data"
    }
   ],
   "source": [
    "print(\"\\nConfusion Matrix:\")\n",
    "cm = confusion_matrix(y_test, y_pred)\n",
    "plt.figure(figsize=(8, 6))\n",
    "sns.heatmap(cm, annot=True, fmt='d', cmap='Blues', \n",
    "            xticklabels=['Predicted Under', 'Predicted Over'], \n",
    "            yticklabels=['Actual Under', 'Actual Over'])\n",
    "plt.title('Confusion Matrix')\n",
    "plt.ylabel('Actual Label')\n",
    "plt.xlabel('Predicted Label')\n",
    "plt.show()"
   ]
  },
  {
   "cell_type": "code",
   "execution_count": 10,
   "id": "dc4ea007",
   "metadata": {},
   "outputs": [
    {
     "name": "stdout",
     "output_type": "stream",
     "text": [
      "Trip Details: \n",
      "City                Kolkata\n",
      "Vehicle_Type            Van\n",
      "Fuel_Type            Diesel\n",
      "Route               Route_B\n",
      "Distance_km         2771.18\n",
      "Load_Weight_kg       357.93\n",
      "Petrol_Price         106.03\n",
      "Diesel_Price          92.76\n",
      "Temp_Mean_C            28.0\n",
      "Precipitation_mm       16.0\n",
      "Name: 25556, dtype: object\n",
      "\n",
      "Actual Trip Cost:       ₹22682.37\n",
      "Budget Threshold:       ₹3000\n",
      "Actual Status:          Over Budget\n",
      "---\n",
      "Model's Prediction Report:\n",
      "Probability of 'Over Budget': 100.00%\n",
      "Final Decision (Prediction):  Over Budget\n",
      "---\n",
      "Result: The model's prediction was CORRECT. ✅\n"
     ]
    }
   ],
   "source": [
    "X_sample = X_test.iloc[6]\n",
    "y_actual_cost = df.loc[X_sample.name]['Total_Fuel_Cost']\n",
    "y_actual_status = y_test.iloc[0] # 0 or 1\n",
    "\n",
    "prediction = model.predict(X_sample.to_frame().T)[0]\n",
    "probabilities = model.predict_proba(X_sample.to_frame().T)[0]\n",
    "prob_over_budget = probabilities[1]\n",
    "\n",
    "print(f\"Trip Details: \\n{X_sample}\\n\")\n",
    "print(f\"Actual Trip Cost:       ₹{y_actual_cost:.2f}\")\n",
    "print(f\"Budget Threshold:       ₹{budget_threshold}\")\n",
    "print(f\"Actual Status:          {'Over Budget' if y_actual_status == 1 else 'Under Budget'}\")\n",
    "print(\"---\")\n",
    "print(\"Model's Prediction Report:\")\n",
    "print(f\"Probability of 'Over Budget': {prob_over_budget * 100:.2f}%\")\n",
    "print(f\"Final Decision (Prediction):  {'Over Budget' if prediction == 1 else 'Under Budget'}\")\n",
    "print(\"---\")\n",
    "\n",
    "if prediction == y_actual_status:\n",
    "    print(\"Result: The model's prediction was CORRECT. ✅\")\n",
    "else:\n",
    "    print(\"Result: The model's prediction was INCORRECT. ❌\")"
   ]
  },
  {
   "cell_type": "code",
   "execution_count": 11,
   "id": "0684f33c",
   "metadata": {},
   "outputs": [
    {
     "data": {
      "text/plain": [
       "City                Kolkata\n",
       "Vehicle_Type            Van\n",
       "Fuel_Type            Diesel\n",
       "Route               Route_B\n",
       "Distance_km         1195.64\n",
       "Load_Weight_kg       376.31\n",
       "Petrol_Price         106.03\n",
       "Diesel_Price          92.76\n",
       "Temp_Mean_C            25.4\n",
       "Precipitation_mm        0.0\n",
       "Name: 34448, dtype: object"
      ]
     },
     "execution_count": 11,
     "metadata": {},
     "output_type": "execute_result"
    }
   ],
   "source": [
    "X_sample = X_test.iloc[0]\n",
    "X_sample"
   ]
  },
  {
   "cell_type": "code",
   "execution_count": 12,
   "id": "dcb4bf0f",
   "metadata": {},
   "outputs": [
    {
     "data": {
      "text/plain": [
       "['Classification-model.pkl']"
      ]
     },
     "execution_count": 12,
     "metadata": {},
     "output_type": "execute_result"
    }
   ],
   "source": [
    "import joblib\n",
    "joblib.dump(model, 'Classification-model.pkl')"
   ]
  }
 ],
 "metadata": {
  "kernelspec": {
   "display_name": "Python 3 (ipykernel)",
   "language": "python",
   "name": "python3"
  },
  "language_info": {
   "codemirror_mode": {
    "name": "ipython",
    "version": 3
   },
   "file_extension": ".py",
   "mimetype": "text/x-python",
   "name": "python",
   "nbconvert_exporter": "python",
   "pygments_lexer": "ipython3",
   "version": "3.9.12"
  }
 },
 "nbformat": 4,
 "nbformat_minor": 5
}
